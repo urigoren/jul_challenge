{
 "cells": [
  {
   "cell_type": "code",
   "execution_count": 1,
   "metadata": {},
   "outputs": [],
   "source": [
    "import pandas as pd\n",
    "from functools import partial\n",
    "import argmaxml"
   ]
  },
  {
   "cell_type": "markdown",
   "metadata": {},
   "source": [
    "Add your full name, email, and phone number.\n",
    "\n",
    "We will contact you with a free ticket in case you win"
   ]
  },
  {
   "cell_type": "code",
   "execution_count": 2,
   "metadata": {},
   "outputs": [],
   "source": [
    "# Fill in your full name, email and phone number\n",
    "my_submit = partial(argmaxml.submit, \"Uri Goren\", \"uri@argmax.ml\", \"050\")"
   ]
  },
  {
   "cell_type": "markdown",
   "metadata": {},
   "source": [
    "## Reading the data"
   ]
  },
  {
   "cell_type": "code",
   "execution_count": 3,
   "metadata": {},
   "outputs": [],
   "source": [
    "df = pd.read_csv(\"jul_train.csv\")\n",
    "test_users = df.user_id.unique()"
   ]
  },
  {
   "cell_type": "markdown",
   "metadata": {},
   "source": [
    "## Creating a submission\n",
    "### Example: Recommend the same product to everyone"
   ]
  },
  {
   "cell_type": "code",
   "execution_count": 19,
   "metadata": {},
   "outputs": [
    {
     "name": "stdout",
     "output_type": "stream",
     "text": [
      "Submission Accuracy for 2073_submission : 0.27%\n"
     ]
    }
   ],
   "source": [
    "# Recommend product_id 2073 to everyone\n",
    "test_submission = {u: 2073 for u in test_users}\n",
    "submission_name = \"2073_submission\"\n",
    "my_accuracy = my_submit(submission_name, test_submission)\n",
    "print (\"Submission Accuracy for {s} : {a:0.2f}%\".format(a=100*my_accuracy, s=submission_name))"
   ]
  },
  {
   "cell_type": "markdown",
   "metadata": {},
   "source": [
    "### Example: Recommend something the user already bought"
   ]
  },
  {
   "cell_type": "code",
   "execution_count": 17,
   "metadata": {},
   "outputs": [],
   "source": [
    "test_submission = df.groupby(\"user_id\")[\"product_id\"]\\\n",
    "                    .apply(lambda x: list(x)[0]).to_dict()"
   ]
  },
  {
   "cell_type": "code",
   "execution_count": 18,
   "metadata": {},
   "outputs": [
    {
     "name": "stdout",
     "output_type": "stream",
     "text": [
      "Submission Accuracy for already_bought_submission : 13.34%\n"
     ]
    }
   ],
   "source": [
    "submission_name = \"already_bought_submission\"\n",
    "my_accuracy = my_submit(submission_name, test_submission)\n",
    "print (\"Submission Accuracy for {s} : {a:0.2f}%\".format(a=100*my_accuracy, s=submission_name))"
   ]
  },
  {
   "cell_type": "markdown",
   "metadata": {},
   "source": [
    "## See how you compare:\n",
    "\n",
    "Visit http://leaderboard.argmax.ml/jul or run"
   ]
  },
  {
   "cell_type": "code",
   "execution_count": 21,
   "metadata": {},
   "outputs": [
    {
     "data": {
      "text/plain": [
       "[[13.338, 'already_bought_submission', '2020-03-08 22:37:36', 1],\n",
       " [0.268, '2073_submission', '2020-03-08 22:37:50', 1]]"
      ]
     },
     "execution_count": 21,
     "metadata": {},
     "output_type": "execute_result"
    }
   ],
   "source": [
    "argmaxml.leaderboard()"
   ]
  }
 ],
 "metadata": {
  "kernelspec": {
   "display_name": "Python 3",
   "language": "python",
   "name": "python3"
  },
  "language_info": {
   "codemirror_mode": {
    "name": "ipython",
    "version": 3
   },
   "file_extension": ".py",
   "mimetype": "text/x-python",
   "name": "python",
   "nbconvert_exporter": "python",
   "pygments_lexer": "ipython3",
   "version": "3.6.7"
  }
 },
 "nbformat": 4,
 "nbformat_minor": 2
}
